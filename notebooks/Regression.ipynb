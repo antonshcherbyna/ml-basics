{
 "cells": [
  {
   "cell_type": "code",
   "execution_count": 22,
   "metadata": {
    "collapsed": false,
    "deletable": true,
    "editable": true
   },
   "outputs": [],
   "source": [
    "import numpy as np \n",
    "from sklearn import datasets\n",
    "from sklearn.model_selection import train_test_split\n",
    "from sklearn.linear_model import LinearRegression, ElasticNet, LogisticRegression\n",
    "\n",
    "import matplotlib.pyplot as plt\n",
    "%matplotlib inline"
   ]
  },
  {
   "cell_type": "markdown",
   "metadata": {
    "deletable": true,
    "editable": true
   },
   "source": [
    "Simple vanilla gradient descent. This implementation isn't efficient and it's better to use quasi-newton methods such as BFGS for optimization problem."
   ]
  },
  {
   "cell_type": "code",
   "execution_count": 23,
   "metadata": {
    "collapsed": false,
    "deletable": true,
    "editable": true
   },
   "outputs": [],
   "source": [
    "def gradient(func, x, h=0.001):\n",
    "        I = np.eye(len(x))\n",
    "        return np.array([(func(x + h*_I) - func(x - h*_I))/(2.0*h) for _I in I])\n",
    "\n",
    "class GradientDescent:\n",
    "    \n",
    "    def __init__(self, func, x, rate, grad=gradient, theta=0.5, delta=0.5, eps=0.001):\n",
    "        self.func = func\n",
    "        self.x = x\n",
    "        self.rate = rate\n",
    "        self.grad = grad\n",
    "        self.theta = theta\n",
    "        self.delta = delta\n",
    "        self.eps = eps\n",
    "        \n",
    "    \n",
    "    def minimize(self):\n",
    "        iteration = 0\n",
    "        while True:\n",
    "            grad = self.grad(self.func, self.x)\n",
    "            next_x = self.x - self.rate*grad\n",
    "            \n",
    "            # calculating efficient rate\n",
    "            rate = self.rate\n",
    "            while self.func(next_x) - self.func(self.x) > -self.theta*rate*np.linalg.norm(grad)**2: \n",
    "                rate = rate*self.delta\n",
    "                next_x = self.x - rate*grad\n",
    "                \n",
    "            # boolean flags to check did algorithm converge\n",
    "            args_error = np.linalg.norm(np.array(self.x) - np.array(next_x)) < self.eps\n",
    "            func_error = abs(self.func(next_x) - self.func(self.x)) < self.eps\n",
    "            grad_error = np.linalg.norm(gradient(self.func, next_x)) < self.eps\n",
    "            \n",
    "            self.x = next_x\n",
    "            iteration += 1\n",
    "            \n",
    "            if args_error and func_error and grad_error:\n",
    "                return {'x': self.x, 'f(x)': self.func(self.x), 'iter': iteration}\n",
    "            elif iteration == 10000:\n",
    "                print('max iter reached, try to change parameters')\n",
    "                return None\n",
    "            \n",
    "        "
   ]
  },
  {
   "cell_type": "markdown",
   "metadata": {
    "deletable": true,
    "editable": true
   },
   "source": [
    "Tested on Rosenbrock function, which is a standart benchmark for optimization methods.\n"
   ]
  },
  {
   "cell_type": "code",
   "execution_count": 24,
   "metadata": {
    "collapsed": false,
    "deletable": true,
    "editable": true
   },
   "outputs": [
    {
     "data": {
      "text/plain": [
       "{'f(x)': 8.0004042310365339e-07,\n",
       " 'iter': 5108,\n",
       " 'x': array([ 1.00089352,  1.00179192])}"
      ]
     },
     "execution_count": 24,
     "metadata": {},
     "output_type": "execute_result"
    }
   ],
   "source": [
    "rosenbrock = lambda x: (1 - x[0])**2 + 100*(x[1] - x[0]**2)**2\n",
    "init_x = [2., 2.]\n",
    "rate = 0.1\n",
    "\n",
    "optim = GradientDescent(rosenbrock, init_x, rate)\n",
    "optim.minimize()"
   ]
  },
  {
   "cell_type": "markdown",
   "metadata": {
    "deletable": true,
    "editable": true
   },
   "source": [
    "But for machine learning purposes is better to use stochastic gradient descent. \n",
    "There is a simple implementation of Adam SGD algorithm for linear and logistic regression. We will use PCA to reduce iris data dimension from 4 to 2 for better visualization.\n"
   ]
  },
  {
   "cell_type": "code",
   "execution_count": 25,
   "metadata": {
    "collapsed": true,
    "deletable": true,
    "editable": true
   },
   "outputs": [],
   "source": [
    "class PCA:\n",
    "    \n",
    "    def __init__(self):\n",
    "        self.reduction_mat = None\n",
    "    \n",
    "    def fit(self, data, num_components):\n",
    "        data = np.array(data)\n",
    "        data = data - data.mean(axis=0)\n",
    "        \n",
    "        eig_vecs = np.linalg.svd(np.cov(data, rowvar=False))[0]\n",
    "        self.reduction_mat = eig_vecs[:, :num_components]\n",
    "        \n",
    "    def transform(self, x):\n",
    "        transformed_x = [np.matmul(self.reduction_mat.T, _x) for _x in x]\n",
    "        return np.array(transformed_x)\n"
   ]
  },
  {
   "cell_type": "code",
   "execution_count": 26,
   "metadata": {
    "collapsed": false,
    "deletable": true,
    "editable": true
   },
   "outputs": [],
   "source": [
    "class AdamRegressor:\n",
    "    \n",
    "    def __init__(self, regr_type, l2=False, l2_rate=0.01, rate=0.1, beta1=0.9, beta2=0.999, zero_correction = 1e-8):\n",
    "        self.regr_type = regr_type\n",
    "        self.l2 = l2\n",
    "        self.l2_rate = l2_rate\n",
    "        self.rate = rate\n",
    "        self.beta1 = beta1\n",
    "        self.beta2 = beta2\n",
    "        self.zero_correction = zero_correction\n",
    "        \n",
    "        self.theta = None\n",
    "        self.timestep = 0\n",
    "        self.moment1 = 0\n",
    "        self.moment2 = 0\n",
    "        \n",
    "    def gradient(self, x, y):\n",
    "        x = np.append(x, [1])\n",
    "        \n",
    "        if self.regr_type == 'linear':\n",
    "            tmp = (x*self.theta).sum() - y    \n",
    "        elif self.regr_type == 'logistic':\n",
    "            tmp = 1./(1. + np.exp(-(x*self.theta).sum())) - y\n",
    "        \n",
    "        grad = x*tmp\n",
    "        \n",
    "        if self.l2:\n",
    "            grad = grad + self.l2_rate*self.theta\n",
    "        \n",
    "        return np.array(grad)\n",
    "    \n",
    "    def train_step(self, batch_x, batch_y):\n",
    "        self.timestep += 1\n",
    "        grads = []\n",
    "        for x, y in zip(batch_x, batch_y):\n",
    "            grads.append(self.gradient(x, y))\n",
    "        grad = np.sum(grads, axis=0)/len(grads)\n",
    "\n",
    "        self.moment1 = self.beta1*self.moment1 + (1 - self.beta1)*grad\n",
    "        self.moment2 = self.beta2*self.moment2 + (1 - self.beta2)*grad**2\n",
    "        timestep_rate = self.rate*np.sqrt(1 - self.beta2**self.timestep)/(1 - self.beta1**self.timestep)\n",
    "\n",
    "        self.theta = self.theta - timestep_rate*self.moment1/(np.sqrt(self.moment2) + self.zero_correction)\n",
    "        \n",
    "    def fit(self, x, y, batch_size, epoch_num):\n",
    "        if hasattr(x[0], \"__len__\"):\n",
    "            feats_size = len(x[0])\n",
    "        else:\n",
    "            feats_size = 1\n",
    "        num_batches = len(x)//batch_size\n",
    "        x = np.reshape(x[: num_batches*batch_size], [num_batches, batch_size, feats_size])\n",
    "        y = np.reshape(y[: num_batches*batch_size], [num_batches, batch_size])\n",
    "        \n",
    "        self.theta = np.random.random(feats_size + 1)\n",
    "        for epoch in range(epoch_num):\n",
    "            for batch_x, batch_y in zip(x,y):\n",
    "                self.train_step(batch_x, batch_y)\n",
    "                \n",
    "    def predict(self, x):\n",
    "        x = np.array([np.append(_x, [1]) for _x in x])\n",
    "        if self.regr_type == 'linear':\n",
    "            prediction = np.array([(_x*self.theta).sum() for _x in x])\n",
    "        elif self.regr_type == 'logistic':\n",
    "            probs = np.array([1./(1. + np.exp(-(_x*self.theta).sum())) for _x in x])\n",
    "            probs = np.array([[prob, 1 - prob] for prob in probs])\n",
    "            prediction = [probs, np.array([prob.argmax() for prob in probs])]\n",
    "        return prediction\n",
    "    \n",
    "        "
   ]
  },
  {
   "cell_type": "code",
   "execution_count": 27,
   "metadata": {
    "collapsed": false,
    "deletable": true,
    "editable": true
   },
   "outputs": [],
   "source": [
    "# loading data\n",
    "data = datasets.load_iris()\n",
    "data, labels, feat_names = data.data, data.target, data.feature_names"
   ]
  },
  {
   "cell_type": "code",
   "execution_count": 28,
   "metadata": {
    "collapsed": false,
    "deletable": true,
    "editable": true
   },
   "outputs": [
    {
     "name": "stdout",
     "output_type": "stream",
     "text": [
      "['sepal length (cm)', 'sepal width (cm)', 'petal length (cm)', 'petal width (cm)']\n"
     ]
    },
    {
     "data": {
      "text/plain": [
       "array([[ 0.68569351, -0.03926846,  1.27368233,  0.5169038 ],\n",
       "       [-0.03926846,  0.18800403, -0.32171275, -0.11798121],\n",
       "       [ 1.27368233, -0.32171275,  3.11317942,  1.29638747],\n",
       "       [ 0.5169038 , -0.11798121,  1.29638747,  0.58241432]])"
      ]
     },
     "execution_count": 28,
     "metadata": {},
     "output_type": "execute_result"
    }
   ],
   "source": [
    "# have a look on covariation matrix to find correlated features\n",
    "print(feat_names)\n",
    "np.cov(data, rowvar=False)"
   ]
  },
  {
   "cell_type": "code",
   "execution_count": 29,
   "metadata": {
    "collapsed": false,
    "deletable": true,
    "editable": true
   },
   "outputs": [
    {
     "data": {
      "text/plain": [
       "<matplotlib.collections.PathCollection at 0x7fcd385c5588>"
      ]
     },
     "execution_count": 29,
     "metadata": {},
     "output_type": "execute_result"
    },
    {
     "data": {
      "image/png": "[encoded data removed]",
      "text/plain": [
       "<matplotlib.figure.Figure at 0x7fcd38704780>"
      ]
     },
     "metadata": {},
     "output_type": "display_data"
    },
    {
     "data": {
      "image/png": "[encoded data removed]",
      "text/plain": [
       "<matplotlib.figure.Figure at 0x7fcd385f2e80>"
      ]
     },
     "metadata": {},
     "output_type": "display_data"
    }
   ],
   "source": [
    "# we see that 'sepal length' highly correlated with 'petal length'\n",
    "# and 'petal length' with 'petal width'\n",
    "plt.figure(1)\n",
    "plt.title('sepal length and petal length')\n",
    "plt.scatter(data[:, 0], data[:, 2])\n",
    "\n",
    "plt.figure(2)\n",
    "plt.title('petal length and petal width')\n",
    "plt.scatter(data[:, 2], data[:, 3])"
   ]
  },
  {
   "cell_type": "code",
   "execution_count": 30,
   "metadata": {
    "collapsed": false,
    "deletable": true,
    "editable": true
   },
   "outputs": [],
   "source": [
    "# second plot looks better for testing linear regression, so we will try\n",
    "# to predict petal width based on petal length\n",
    "x = data[:, 2]\n",
    "y = data[:, 3]\n",
    "\n",
    "train_x, test_x, train_y, test_y = train_test_split(x, y, test_size=0.1)"
   ]
  },
  {
   "cell_type": "code",
   "execution_count": 31,
   "metadata": {
    "collapsed": false,
    "deletable": true,
    "editable": true
   },
   "outputs": [
    {
     "data": {
      "text/plain": [
       "<matplotlib.collections.PathCollection at 0x7fcd384d96d8>"
      ]
     },
     "execution_count": 31,
     "metadata": {},
     "output_type": "execute_result"
    },
    {
     "data": {
      "image/png": "[encoded data removed]",
      "text/plain": [
       "<matplotlib.figure.Figure at 0x7fcd389e8198>"
      ]
     },
     "metadata": {},
     "output_type": "display_data"
    }
   ],
   "source": [
    "lin = AdamRegressor('linear')\n",
    "lin.fit(train_x, train_y, batch_size=5, epoch_num=20)\n",
    "\n",
    "sklearn_lin = LinearRegression()\n",
    "sklearn_lin.fit(train_x.reshape(-1, 1), train_y)\n",
    "\n",
    "parameters = lin.theta\n",
    "sk_parameters = sklearn_lin.coef_, sklearn_lin.intercept_\n",
    "\n",
    "plt.plot(x, parameters[0]*x + parameters[1], 'g')\n",
    "plt.plot(x, sk_parameters[0]*x + sk_parameters[1], 'r')\n",
    "plt.scatter(x, y)"
   ]
  },
  {
   "cell_type": "code",
   "execution_count": 32,
   "metadata": {
    "collapsed": false,
    "deletable": true,
    "editable": true
   },
   "outputs": [],
   "source": [
    "# taking data only for 2 classes\n",
    "data = data[:100,]\n",
    "labels = labels[:100]\n",
    "\n",
    "# dimension reduction\n",
    "pc = PCA()\n",
    "pc.fit(data, 2)\n",
    "data = pc.transform(data)\n",
    "\n",
    "# splitting data\n",
    "train_data, test_data, train_labels, test_labels = train_test_split(data, labels, test_size=0.2)"
   ]
  },
  {
   "cell_type": "code",
   "execution_count": 33,
   "metadata": {
    "collapsed": false,
    "deletable": true,
    "editable": true,
    "scrolled": true
   },
   "outputs": [
    {
     "data": {
      "text/plain": [
       "<matplotlib.collections.PathCollection at 0x7fcd38642978>"
      ]
     },
     "execution_count": 33,
     "metadata": {},
     "output_type": "execute_result"
    },
    {
     "data": {
      "image/png": "[encoded data removed]",
      "text/plain": [
       "<matplotlib.figure.Figure at 0x7fcd7d2b7128>"
      ]
     },
     "metadata": {},
     "output_type": "display_data"
    }
   ],
   "source": [
    "log = AdamRegressor('logistic', l2=True)\n",
    "log.fit(train_data, train_labels, 5, 20)\n",
    "\n",
    "sklearn_log = LogisticRegression()\n",
    "sklearn_log.fit(train_data, train_labels)\n",
    "\n",
    "parameters = log.theta\n",
    "sk_parameters = sklearn_log.coef_.reshape(2)[0], sklearn_log.coef_.reshape(2)[1], sklearn_log.intercept_\n",
    "x_points = np.linspace(-5, -3, 1000)\n",
    "\n",
    "plt.plot(x_points, -parameters[2]/parameters[1]-x_points*parameters[0]/parameters[1], 'g')\n",
    "plt.plot(x_points, -sk_parameters[2]/sk_parameters[1]-x_points*sk_parameters[0]/sk_parameters[1], 'r')\n",
    "plt.scatter(data[:, 0], data[:, 1], c=labels)"
   ]
  }
 ],
 "metadata": {
  "kernelspec": {
   "display_name": "Python 3",
   "language": "python",
   "name": "python3"
  },
  "language_info": {
   "codemirror_mode": {
    "name": "ipython",
    "version": 3
   },
   "file_extension": ".py",
   "mimetype": "text/x-python",
   "name": "python",
   "nbconvert_exporter": "python",
   "pygments_lexer": "ipython3",
   "version": "3.5.3"
  }
 },
 "nbformat": 4,
 "nbformat_minor": 2
}
