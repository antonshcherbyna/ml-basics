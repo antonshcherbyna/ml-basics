{
 "cells": [
  {
   "cell_type": "code",
   "execution_count": 3,
   "metadata": {
    "collapsed": false
   },
   "outputs": [],
   "source": [
    "import numpy as np \n",
    "from functools import reduce \n",
    "from sklearn import datasets\n",
    "from sklearn.model_selection import train_test_split\n",
    "from sklearn.naive_bayes import GaussianNB\n",
    "\n",
    "import matplotlib.pyplot as plt\n",
    "%matplotlib inline"
   ]
  },
  {
   "cell_type": "code",
   "execution_count": 1,
   "metadata": {
    "collapsed": false
   },
   "outputs": [],
   "source": [
    "class NaiveBayes:\n",
    "    \n",
    "    def __init__(self):\n",
    "        self.data = None\n",
    "        self.labels = None\n",
    "        self.feat_ids = None\n",
    "        self.label_ids = None\n",
    "        self._means = None\n",
    "        self._variances = None\n",
    "        self._prior_probs = None\n",
    "        \n",
    "    def fit(self, data, labels):\n",
    "        self.data = np.array(data)\n",
    "        self.labels = np.array(labels)\n",
    "        self.feat_ids = [i for i in range(len(self.data[0]))] \n",
    "        self.label_ids = [i for i in set(labels)]\n",
    "        self._means = None\n",
    "        self.means\n",
    "        self._variances = None\n",
    "        self.variances\n",
    "        self._prior_probs = None\n",
    "        self.prior_probs\n",
    "        \n",
    "    @property\n",
    "    def means(self):\n",
    "        if not self._means:\n",
    "            self._means = [[self.data[self.labels == label_id, feat_id].mean() \n",
    "                            for feat_id in self.feat_ids] \n",
    "                           for label_id in self.label_ids]\n",
    "        return np.array(self._means)\n",
    "    \n",
    "    @property\n",
    "    def variances(self):\n",
    "        if not self._variances:\n",
    "            self._variances = [[self.data[self.labels == label_id, feat_id].var() \n",
    "                                for feat_id in self.feat_ids] \n",
    "                               for label_id in self.label_ids]\n",
    "        return np.array(self._variances)\n",
    "    \n",
    "    @property\n",
    "    def prior_probs(self):\n",
    "        if not self._prior_probs:\n",
    "            self._prior_probs = [self.data[self.labels == label_id].size/self.data.size\n",
    "                                 for label_id in self.label_ids]\n",
    "        return np.array(self._prior_probs)\n",
    "            \n",
    "    def gaus(self, x, mean, variance):\n",
    "        exp = np.exp(-(x - mean)**2/(2*variance**2))\n",
    "        return 1/np.sqrt(2*np.pi*variance**2)*exp\n",
    "\n",
    "    def cond_prob(self, x, means, variances):\n",
    "        probs = [self.gaus(_x, mean, variance) \n",
    "                 for _x, mean, variance in zip(x, means, variances)]\n",
    "        prob = reduce(lambda x, y: x*y, probs)\n",
    "        return prob\n",
    "    \n",
    "    def predict(self, x):\n",
    "        x = np.array(x)\n",
    "        prediction = []\n",
    "        for _x in x:\n",
    "            probs = [prior_prob*self.cond_prob(_x, mean, variance) \n",
    "                     for prior_prob, mean, variance in zip(self.prior_probs, self.means, self.variances)]\n",
    "            probs = np.array(probs)/sum(probs)\n",
    "            prediction.append(probs.argmax())\n",
    "        return np.array(prediction)\n",
    "    \n",
    "    def predict_probs(self, x):\n",
    "        x = np.array(x)\n",
    "        prediction = []\n",
    "        for _x in x:\n",
    "            probs = [prior_prob*self.cond_prob(_x, mean, variance) \n",
    "                     for prior_prob, mean, variance in zip(self.prior_probs, self.means, self.variances)]\n",
    "            probs = np.array(probs)/sum(probs)\n",
    "            prediction.append(probs)\n",
    "        return np.array(prediction)\n",
    "            "
   ]
  },
  {
   "cell_type": "code",
   "execution_count": 5,
   "metadata": {
    "collapsed": false
   },
   "outputs": [],
   "source": [
    "data = datasets.load_iris()\n",
    "data, labels = data.data, data.target\n",
    "\n",
    "train_data, test_data, train_labels, test_labels = train_test_split(data, labels, test_size=0.2)"
   ]
  },
  {
   "cell_type": "code",
   "execution_count": 12,
   "metadata": {
    "collapsed": false
   },
   "outputs": [
    {
     "name": "stdout",
     "output_type": "stream",
     "text": [
      "self made gaussian naive bayes: 1.0\n",
      "sklearn gaussian naive bayes: 1.0\n"
     ]
    }
   ],
   "source": [
    "nb = NaiveBayes()\n",
    "nb.fit(train_data, train_labels)\n",
    "prediction = nb.predict(test_data)\n",
    "\n",
    "sklearn_nb = GaussianNB()\n",
    "sklearn_nb.fit(train_data, train_labels)\n",
    "sklearn_prediction = sklearn_nb.predict(test_data)\n",
    "\n",
    "accuracy = (prediction == test_labels).sum()/len(prediction)\n",
    "sklearn_accuracy = (sklearn_prediction == test_labels).sum()/len(sklearn_prediction)\n",
    "\n",
    "print('self-made gaussian naive bayes: {}\\nsklearn gaussian naive bayes: {}'.format(accuracy, sklearn_accuracy))"
   ]
  },
  {
   "cell_type": "code",
   "execution_count": null,
   "metadata": {
    "collapsed": true
   },
   "outputs": [],
   "source": []
  }
 ],
 "metadata": {
  "kernelspec": {
   "display_name": "Python 3",
   "language": "python",
   "name": "python3"
  },
  "language_info": {
   "codemirror_mode": {
    "name": "ipython",
    "version": 3
   },
   "file_extension": ".py",
   "mimetype": "text/x-python",
   "name": "python",
   "nbconvert_exporter": "python",
   "pygments_lexer": "ipython3",
   "version": "3.5.3"
  }
 },
 "nbformat": 4,
 "nbformat_minor": 2
}
