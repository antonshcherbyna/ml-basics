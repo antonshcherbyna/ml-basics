{
 "cells": [
  {
   "cell_type": "code",
   "execution_count": 4,
   "metadata": {
    "collapsed": true
   },
   "outputs": [],
   "source": [
    "import numpy as np\n",
    "from sklearn import datasets\n",
    "from sklearn.model_selection import train_test_split"
   ]
  },
  {
   "cell_type": "code",
   "execution_count": 13,
   "metadata": {
    "collapsed": false
   },
   "outputs": [],
   "source": [
    "class NeuralClassifier:\n",
    "    \n",
    "    def __init__(self, num_inputs, num_units, num_classes):\n",
    "        self.num_inputs = num_inputs\n",
    "        self.num_units = num_units\n",
    "        self.num_classes = num_classes\n",
    "        \n",
    "        self.W1 = np.random.randn(self.num_inputs, self.num_units)/np.sqrt(self.num_inputs)\n",
    "        self.b1 = np.zeros((1, self.num_units))\n",
    "        self.W2 = np.random.randn(self.num_units, self.num_classes)/np.sqrt(self.num_units)\n",
    "        self.b2 = np.zeros((1, self.num_classes))\n",
    "    \n",
    "    def train(self, x, y, lr, num_epoch):         \n",
    "        for i in range(num_epoch):\n",
    "            z1 = x.dot(self.W1) + self.b1\n",
    "            z1 = np.tanh(z1)\n",
    "            z2 = z1.dot(self.W2) + self.b2\n",
    "            y_hat = np.exp(z2)/np.sum(np.exp(z2), axis=1, keepdims=True)\n",
    "\n",
    "            delta = y_hat\n",
    "            delta[range(len(x)), y] -= 1\n",
    "            dW2 = (z1.T).dot(delta)\n",
    "            db2 = np.sum(delta, axis=0, keepdims=True)\n",
    "            delta = delta.dot(self.W2.T)*(1 - np.power(z1, 2))\n",
    "            dW1 = np.dot(x.T, delta)\n",
    "            db1 = np.sum(delta, axis=0)\n",
    "\n",
    "            self.W1 += -lr*dW1\n",
    "            self.b1 += -lr*db1\n",
    "            self.W2 += -lr*dW2\n",
    "            self.b2 += -lr*db2\n",
    "                           \n",
    "    def predict(self, x):\n",
    "        z1 = x.dot(self.W1) + self.b1\n",
    "        z1 = np.tanh(z1)\n",
    "        z2 = z1.dot(self.W2) + self.b2\n",
    "        y_hat = np.exp(z2)/np.sum(np.exp(z2), axis=1, keepdims=True)\n",
    "        return np.argmax(y_hat, axis=1)\n",
    "    \n",
    "    "
   ]
  },
  {
   "cell_type": "code",
   "execution_count": 14,
   "metadata": {
    "collapsed": false
   },
   "outputs": [],
   "source": [
    "data = datasets.load_iris()\n",
    "data, labels, feat_names = data.data, data.target, data.feature_names\n",
    "\n",
    "data = data[:100]\n",
    "labels = labels[:100]\n",
    "\n",
    "train_x, test_x, train_y, test_y = train_test_split(data, labels, test_size=0.2)"
   ]
  },
  {
   "cell_type": "code",
   "execution_count": 19,
   "metadata": {
    "collapsed": false
   },
   "outputs": [
    {
     "name": "stdout",
     "output_type": "stream",
     "text": [
      "accuracy: 1.0\n"
     ]
    }
   ],
   "source": [
    "net = NeuralClassifier(4, 3, 2)\n",
    "net.train(train_x, train_y, 0.01, 10000)\n",
    "prediction = net.predict(test_x)\n",
    "\n",
    "accuracy = (test_y == prediction).sum()/len(test_y)\n",
    "print('accuracy: {}'.format(accuracy))"
   ]
  },
  {
   "cell_type": "code",
   "execution_count": null,
   "metadata": {
    "collapsed": true
   },
   "outputs": [],
   "source": []
  }
 ],
 "metadata": {
  "kernelspec": {
   "display_name": "Python 3",
   "language": "python",
   "name": "python3"
  },
  "language_info": {
   "codemirror_mode": {
    "name": "ipython",
    "version": 3
   },
   "file_extension": ".py",
   "mimetype": "text/x-python",
   "name": "python",
   "nbconvert_exporter": "python",
   "pygments_lexer": "ipython3",
   "version": "3.5.3"
  }
 },
 "nbformat": 4,
 "nbformat_minor": 2
}
