{
 "cells": [
  {
   "cell_type": "code",
   "execution_count": 3,
   "metadata": {
    "collapsed": true
   },
   "outputs": [],
   "source": [
    "import numpy as np\n",
    "from sklearn import datasets\n",
    "from sklearn.model_selection import train_test_split\n",
    "from sklearn.svm import SVC\n",
    "\n",
    "import matplotlib.pyplot as plt\n",
    "%matplotlib inline"
   ]
  },
  {
   "cell_type": "code",
   "execution_count": 4,
   "metadata": {
    "collapsed": false
   },
   "outputs": [],
   "source": [
    "# loading data\n",
    "data = datasets.load_iris()\n",
    "data, labels, feat_names = data.data, data.target, data.feature_names\n",
    "\n",
    "data = data[ :100, :2]\n",
    "labels = labels[: 100]\n",
    "labels = np.apply_along_axis(lambda x: -1 if x == 0 else 1, 1, labels.reshape(-1, 1))\n",
    "\n",
    "# splitting data\n",
    "train_data, test_data, train_labels, test_labels = train_test_split(data, labels, test_size=0.2)"
   ]
  },
  {
   "cell_type": "code",
   "execution_count": 5,
   "metadata": {
    "collapsed": false
   },
   "outputs": [],
   "source": [
    "def pegasos_optimizer(data, labels, rate, num_iter):\n",
    "    data = np.array([np.append(el, [1.]) for el in data])\n",
    "    weights = np.zeros(len(data[0]))\n",
    "\n",
    "    for t in range(1, num_iter):\n",
    "        i = np.random.randint(len(data))\n",
    "        eta = 1./(rate*t)\n",
    "        if labels[i]*((weights*data[i]).sum()) < 1.:\n",
    "            weights = (1. - 1./t)*weights + eta*data[i]*labels[i]\n",
    "        elif labels[i]*((weights*data[i]).sum()) >= 1.:\n",
    "            weights = (1. - 1./t)*weights\n",
    "            \n",
    "        tmp = np.array([1., 1/np.sqrt(rate)/np.linalg.norm(weights)])\n",
    "        weights = weights*tmp.min()\n",
    "    \n",
    "    return weights"
   ]
  },
  {
   "cell_type": "code",
   "execution_count": 8,
   "metadata": {
    "collapsed": false,
    "scrolled": false
   },
   "outputs": [
    {
     "data": {
      "text/plain": [
       "<matplotlib.collections.PathCollection at 0x7fe88ac26eb8>"
      ]
     },
     "execution_count": 8,
     "metadata": {},
     "output_type": "execute_result"
    },
    {
     "data": {
      "image/png": "[encoded data removed]",
      "text/plain": [
       "<matplotlib.figure.Figure at 0x7fe88d05d1d0>"
      ]
     },
     "metadata": {},
     "output_type": "display_data"
    }
   ],
   "source": [
    "parameters = pegasos_optimizer(train_data, train_labels, 0.0001, 10000)\n",
    "\n",
    "sklearn_linear = SVC(kernel='linear')\n",
    "sklearn_linear.fit(train_data, train_labels)\n",
    "sk_parameters = sklearn_linear.coef_[0][0], sklearn_linear.coef_[0][1], sklearn_linear.intercept_[0]\n",
    "\n",
    "x_points = np.linspace(2, 7, 1000)\n",
    "plt.plot(x_points, -parameters[2]/parameters[1]-x_points*parameters[0]/parameters[1], 'g')\n",
    "plt.plot(x_points, -sk_parameters[2]/sk_parameters[1]-x_points*sk_parameters[0]/sk_parameters[1], 'r')\n",
    "plt.scatter(test_data[:, 0], test_data[:, 1], c=test_labels)"
   ]
  },
  {
   "cell_type": "code",
   "execution_count": null,
   "metadata": {
    "collapsed": true
   },
   "outputs": [],
   "source": []
  }
 ],
 "metadata": {
  "kernelspec": {
   "display_name": "Python 3",
   "language": "python",
   "name": "python3"
  },
  "language_info": {
   "codemirror_mode": {
    "name": "ipython",
    "version": 3
   },
   "file_extension": ".py",
   "mimetype": "text/x-python",
   "name": "python",
   "nbconvert_exporter": "python",
   "pygments_lexer": "ipython3",
   "version": "3.5.3"
  }
 },
 "nbformat": 4,
 "nbformat_minor": 2
}
