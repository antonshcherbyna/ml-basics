{
 "cells": [
  {
   "cell_type": "code",
   "execution_count": 45,
   "metadata": {
    "collapsed": true
   },
   "outputs": [],
   "source": [
    "import numpy as np \n",
    "from sklearn import datasets\n",
    "from sklearn.model_selection import train_test_split\n",
    "from sklearn.discriminant_analysis import QuadraticDiscriminantAnalysis\n",
    "\n",
    "import matplotlib.pyplot as plt\n",
    "%matplotlib inline"
   ]
  },
  {
   "cell_type": "code",
   "execution_count": 53,
   "metadata": {
    "collapsed": false
   },
   "outputs": [],
   "source": [
    "class GaussianDiscriminant:\n",
    "    \n",
    "    def __init__(self):\n",
    "        self.data = None\n",
    "        self.labels = None\n",
    "        self.feat_ids = None\n",
    "        self.label_ids = None\n",
    "        self._means = None\n",
    "        self._covariances = None\n",
    "        self._prior_probs = None\n",
    "        \n",
    "    def fit(self, data, labels):\n",
    "        self.data = np.array(data)\n",
    "        self.labels = np.array(labels)\n",
    "        self.feat_ids = [i for i in range(len(self.data[0]))] \n",
    "        self.label_ids = [i for i in set(labels)]\n",
    "        self._means = None\n",
    "        self.means\n",
    "        self._covariances = None\n",
    "        self.covariances\n",
    "        self._prior_probs = None\n",
    "        self.prior_probs\n",
    "        \n",
    "    @property\n",
    "    def means(self):\n",
    "        if not self._means:\n",
    "            self._means = [[self.data[self.labels == label_id, feat_id].mean() \n",
    "                            for feat_id in self.feat_ids] \n",
    "                           for label_id in self.label_ids]\n",
    "        return np.array(self._means)\n",
    "    \n",
    "    @property\n",
    "    def covariances(self):\n",
    "        if not self._covariances:\n",
    "            self._covariances = [np.cov(self.data[self.labels == label_id], rowvar=False)\n",
    "                                 for label_id in self.label_ids]\n",
    "        return np.array(self._covariances)\n",
    "    \n",
    "    @property\n",
    "    def prior_probs(self):\n",
    "        if not self._prior_probs:\n",
    "            self._prior_probs = [self.data[self.labels == label_id].size/self.data.size\n",
    "                                 for label_id in self.label_ids]\n",
    "        return np.array(self._prior_probs)\n",
    "    \n",
    "    def gauss(self, x, mean, covariance):\n",
    "        exp = np.exp(-1/2*np.matmul(x - mean, np.matmul(np.linalg.pinv(covariance), x - mean)))\n",
    "        return 1/((2*np.pi)**(len(x)/2)*np.linalg.det(covariance)**(1/2))*exp\n",
    "    \n",
    "    def cond_probs(self, x):\n",
    "        probs = [self.gauss(x, mean, covariance) \n",
    "                 for mean, covariance in zip(self.means, self.covariances)]\n",
    "        return np.array(probs)\n",
    "             \n",
    "    def predict(self, x):\n",
    "        x = np.array(x)\n",
    "        prediction = []\n",
    "        for _x in x:\n",
    "            probs = self.cond_probs(_x)*self.prior_probs\n",
    "            probs = probs/probs.sum()\n",
    "            prediction.append(probs.argmax())\n",
    "        return np.array(prediction)\n",
    "    \n",
    "    def predict_probs(self, x):\n",
    "        x = np.array(x)\n",
    "        prediction = []\n",
    "        for _x in x:\n",
    "            probs = self.cond_probs(_x)*self.prior_probs\n",
    "            probs = probs/probs.sum()\n",
    "            prediction.append(probs)\n",
    "        return np.array(prediction)"
   ]
  },
  {
   "cell_type": "code",
   "execution_count": 54,
   "metadata": {
    "collapsed": false
   },
   "outputs": [],
   "source": [
    "data = datasets.load_iris()\n",
    "data, labels = data.data, data.target\n",
    "\n",
    "train_data, test_data, train_labels, test_labels = train_test_split(data, labels, test_size=0.2)"
   ]
  },
  {
   "cell_type": "code",
   "execution_count": 60,
   "metadata": {
    "collapsed": false
   },
   "outputs": [
    {
     "name": "stdout",
     "output_type": "stream",
     "text": [
      "self made GDA accuracy: 0.9666666666666667\n",
      "sklearn quadratic GDA: 0.9666666666666667\n"
     ]
    }
   ],
   "source": [
    "gd = GaussianDiscriminant()\n",
    "gd.fit(train_data, train_labels)\n",
    "prediction = gd.predict(test_data)\n",
    "\n",
    "sklearn_gd = QuadraticDiscriminantAnalysis()\n",
    "sklearn_gd.fit(train_data, train_labels)\n",
    "sklearn_prediction = sklearn_gd.predict(test_data)\n",
    "\n",
    "accuracy = (prediction == test_labels).sum()/len(prediction)\n",
    "sklearn_accuracy = (sklearn_prediction == test_labels).sum()/len(sklearn_prediction)\n",
    "\n",
    "print('self-made GDA accuracy: {}\\nsklearn quadratic GDA: {}'.format(accuracy, sklearn_accuracy))"
   ]
  },
  {
   "cell_type": "code",
   "execution_count": null,
   "metadata": {
    "collapsed": true
   },
   "outputs": [],
   "source": []
  }
 ],
 "metadata": {
  "kernelspec": {
   "display_name": "Python 3",
   "language": "python",
   "name": "python3"
  },
  "language_info": {
   "codemirror_mode": {
    "name": "ipython",
    "version": 3
   },
   "file_extension": ".py",
   "mimetype": "text/x-python",
   "name": "python",
   "nbconvert_exporter": "python",
   "pygments_lexer": "ipython3",
   "version": "3.5.3"
  }
 },
 "nbformat": 4,
 "nbformat_minor": 2
}
